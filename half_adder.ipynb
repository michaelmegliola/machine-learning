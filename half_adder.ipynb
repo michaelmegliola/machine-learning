{
 "cells": [
  {
   "cell_type": "markdown",
   "metadata": {},
   "source": [
    "## The World's Least Efficient Adding Machine\n",
    "\n",
    "**A feed-forward neural network that trains to add 1 + 1 (in binary).**<br>\n",
    "\n",
    "$0+0=0$<br>\n",
    "$0+1=1$<br>\n",
    "$1+0=1$<br>\n",
    "$1+1=10$<br>"
   ]
  },
  {
   "cell_type": "code",
   "execution_count": 5,
   "metadata": {},
   "outputs": [
    {
     "name": "stdout",
     "output_type": "stream",
     "text": [
      "===========\n",
      "RESULTS\n",
      "0 + 0 = 0 0\n",
      "0 + 1 = 0 1\n",
      "1 + 0 = 0 1\n",
      "1 + 1 = 1 0\n",
      "===========\n"
     ]
    }
   ],
   "source": [
    "import numpy as np\n",
    "\n",
    "X = np.array([[0,0],[0,1],[1,0],[1,1]])\n",
    "y = np.array([[0,0],[0,1],[0,1],[1,0]])\n",
    "hidden_size = 4\n",
    "W0 = 2 * np.random.random((2, hidden_size)) - 1\n",
    "W1 = 2 * np.random.random((hidden_size, 2)) - 1\n",
    "alpha = 0.05\n",
    "\n",
    "def sigmoid(x):\n",
    "    return 1 / (1+np.exp(-x))\n",
    "\n",
    "def sigmoid_to_sigmoid_prime(s_of_x):\n",
    "    return s_of_x * (1 - s_of_x)\n",
    "\n",
    "for i in range(0,100000):\n",
    "    # feed-forward values\n",
    "    layer_0 = X\n",
    "    layer_1 = sigmoid(np.dot(layer_0, W0))  # multiply layer0 by weights, then activate\n",
    "    layer_2 = sigmoid(np.dot(layer_1, W1))\n",
    "    # back propogate errors\n",
    "    layer_2_error = y - layer_2\n",
    "    layer_2_delta = layer_2_error * sigmoid_to_sigmoid_prime(layer_2)\n",
    "    layer_1_error = layer_2_delta.dot(W1.T)\n",
    "    layer_1_delta = layer_1_error * sigmoid_to_sigmoid_prime(layer_1)\n",
    "    \n",
    "    W1 += alpha * layer_1.T.dot(layer_2_delta)\n",
    "    W0 += alpha * layer_0.T.dot(layer_1_delta)\n",
    "\n",
    "print('===========')\n",
    "print('RESULTS')\n",
    "for i in range(0, len(layer_2)):\n",
    "    a = 1 if layer_2[i][0] > 0.5 else 0\n",
    "    b = 1 if layer_2[i][1] > 0.5 else 0\n",
    "    print(X[i][0],'+',X[i][1],'=',a,b)\n",
    "print('===========')"
   ]
  },
  {
   "cell_type": "markdown",
   "metadata": {},
   "source": [
    "==========================================================================<br>\n",
    "Import numpy -- that handles linear algebra (and other useful math stuff)"
   ]
  },
  {
   "cell_type": "code",
   "execution_count": null,
   "metadata": {},
   "outputs": [],
   "source": [
    "import numpy as np"
   ]
  },
  {
   "cell_type": "markdown",
   "metadata": {},
   "source": [
    "Create all possible inputs, as a numpy array (each row represents one set of inputs):"
   ]
  },
  {
   "cell_type": "code",
   "execution_count": 6,
   "metadata": {},
   "outputs": [
    {
     "data": {
      "text/plain": [
       "array([[0, 0],\n",
       "       [0, 1],\n",
       "       [1, 0],\n",
       "       [1, 1]])"
      ]
     },
     "execution_count": 6,
     "metadata": {},
     "output_type": "execute_result"
    }
   ],
   "source": [
    "X = np.array([[0,0],[0,1],[1,0],[1,1]])\n",
    "X"
   ]
  },
  {
   "cell_type": "markdown",
   "metadata": {},
   "source": [
    "Create the related (correct) set of outputs... the neural network will train to these results:"
   ]
  },
  {
   "cell_type": "code",
   "execution_count": 7,
   "metadata": {},
   "outputs": [
    {
     "data": {
      "text/plain": [
       "array([[0, 0],\n",
       "       [0, 1],\n",
       "       [0, 1],\n",
       "       [1, 0]])"
      ]
     },
     "execution_count": 7,
     "metadata": {},
     "output_type": "execute_result"
    }
   ],
   "source": [
    "y = np.array([[0,0],[0,1],[0,1],[1,0]])\n",
    "y"
   ]
  },
  {
   "cell_type": "markdown",
   "metadata": {},
   "source": [
    "Notice that each input row relates 1:1 to an output row, for example:"
   ]
  },
  {
   "cell_type": "code",
   "execution_count": 9,
   "metadata": {},
   "outputs": [
    {
     "name": "stdout",
     "output_type": "stream",
     "text": [
      "[1 0] [0 1]\n"
     ]
    }
   ],
   "source": [
    "print(X[2],y[2])"
   ]
  },
  {
   "cell_type": "markdown",
   "metadata": {},
   "source": [
    "...or to produce the entire truth table..."
   ]
  },
  {
   "cell_type": "code",
   "execution_count": 11,
   "metadata": {},
   "outputs": [
    {
     "name": "stdout",
     "output_type": "stream",
     "text": [
      "[0 0] -> [0 0]\n",
      "[0 1] -> [0 1]\n",
      "[1 0] -> [0 1]\n",
      "[1 1] -> [1 0]\n"
     ]
    }
   ],
   "source": [
    "for i in range(0, len(X)):\n",
    "    print(X[i],'->',y[i])"
   ]
  },
  {
   "cell_type": "markdown",
   "metadata": {},
   "source": [
    "Set up a neural network with one hidden layer; initialize random weights to allow forward propogation. The network will have one hidden layer. Start by specifying the size (width) of the hidden layer."
   ]
  },
  {
   "cell_type": "code",
   "execution_count": null,
   "metadata": {},
   "outputs": [],
   "source": [
    "hidden_size = 4"
   ]
  },
  {
   "cell_type": "markdown",
   "metadata": {},
   "source": [
    "Initialize a random set of weights that allow inputs to be propogated into the hidden layer. One weight is required to represent the impact of each input on each node of the hidden layer. There are two inputs and four hidden nodes, so the weights need to be 2x4:"
   ]
  },
  {
   "cell_type": "code",
   "execution_count": 12,
   "metadata": {},
   "outputs": [
    {
     "data": {
      "text/plain": [
       "array([[ 0.24930343, -0.4406158 , -0.90512732,  0.7128532 ],\n",
       "       [-0.79008149, -0.73063072, -0.47393487, -0.71743393]])"
      ]
     },
     "execution_count": 12,
     "metadata": {},
     "output_type": "execute_result"
    }
   ],
   "source": [
    "W0 = 2 * np.random.random((2, hidden_size)) - 1\n",
    "W0"
   ]
  },
  {
   "cell_type": "markdown",
   "metadata": {},
   "source": [
    "Initialize a random set of weights that allow outputs from the hidden layer to be propogated into outputs of the network. There are four nodes in the hidden layer, and two outputs, so the weights need to be 4x2:"
   ]
  },
  {
   "cell_type": "code",
   "execution_count": 13,
   "metadata": {},
   "outputs": [
    {
     "data": {
      "text/plain": [
       "array([[-0.81445752,  0.12882471],\n",
       "       [ 0.90862417, -0.80702739],\n",
       "       [-0.32318397, -0.99912121],\n",
       "       [-0.10828113,  0.8507689 ]])"
      ]
     },
     "execution_count": 13,
     "metadata": {},
     "output_type": "execute_result"
    }
   ],
   "source": [
    "W1 = 2 * np.random.random((hidden_size, 2)) - 1\n",
    "W1"
   ]
  },
  {
   "cell_type": "markdown",
   "metadata": {},
   "source": [
    "Define a learning rate (errors will be incrementally corrected based on this rate, which may require tuning to get the correct results):"
   ]
  },
  {
   "cell_type": "code",
   "execution_count": null,
   "metadata": {},
   "outputs": [],
   "source": [
    "alpha = 0.05"
   ]
  },
  {
   "cell_type": "markdown",
   "metadata": {},
   "source": [
    "Here is a conventional function that converts a continuous result into a **yes** or **no**, more or less."
   ]
  },
  {
   "cell_type": "code",
   "execution_count": null,
   "metadata": {},
   "outputs": [],
   "source": [
    "def sigmoid(x):\n",
    "    return 1 / (1+np.exp(-x))"
   ]
  },
  {
   "cell_type": "markdown",
   "metadata": {},
   "source": [
    "The function works well because it **divides** continous inputs into *just-about-one* or *basically-zero*:"
   ]
  },
  {
   "cell_type": "code",
   "execution_count": 16,
   "metadata": {},
   "outputs": [
    {
     "data": {
      "text/plain": [
       "[<matplotlib.lines.Line2D at 0x7faa302cc3c8>]"
      ]
     },
     "execution_count": 16,
     "metadata": {},
     "output_type": "execute_result"
    },
    {
     "data": {
      "image/png": "[encoded data removed]",
      "text/plain": [
       "<matplotlib.figure.Figure at 0x7faa3c7782b0>"
      ]
     },
     "metadata": {},
     "output_type": "display_data"
    }
   ],
   "source": [
    "%matplotlib inline\n",
    "import matplotlib.pyplot as plt\n",
    "plt.plot(np.arange(-10,10,0.1), sigmoid(np.arange(-10,10,.1)))"
   ]
  },
  {
   "cell_type": "markdown",
   "metadata": {},
   "source": [
    "To measure the gradient of errors, it's also necessary to use the first derivative of that function, which is shaped in a way to say *get away from the transition... head for the extremes*:"
   ]
  },
  {
   "cell_type": "code",
   "execution_count": 20,
   "metadata": {},
   "outputs": [
    {
     "data": {
      "text/plain": [
       "[<matplotlib.lines.Line2D at 0x7faa30231b70>]"
      ]
     },
     "execution_count": 20,
     "metadata": {},
     "output_type": "execute_result"
    },
    {
     "data": {
      "image/png": "[encoded data removed]",
      "text/plain": [
       "<matplotlib.figure.Figure at 0x7faa302e5748>"
      ]
     },
     "metadata": {},
     "output_type": "display_data"
    }
   ],
   "source": [
    "def sigmoid_to_sigmoid_prime(s_of_x):\n",
    "    return s_of_x * (1 - s_of_x)\n",
    "\n",
    "plt.plot(np.arange(-10,10,0.1), sigmoid(np.arange(-10,10,.1)))\n",
    "plt.plot(np.arange(-10,10,0.1), sigmoid_to_sigmoid_prime(sigmoid(np.arange(-10,10,.1))))"
   ]
  },
  {
   "cell_type": "markdown",
   "metadata": {},
   "source": [
    "The first step is **forward propogation**. That is just the process of applying weights to inputs, *activating* the inputs using the sigmoid function (to cause each input to imply a result of **yes** or **no**), then using the resulting outputs as the input for the next layer of the network:"
   ]
  },
  {
   "cell_type": "code",
   "execution_count": 21,
   "metadata": {},
   "outputs": [],
   "source": [
    "# here is the code in compact form...\n",
    "\n",
    "# feed-forward values\n",
    "layer_0 = X\n",
    "layer_1 = sigmoid(np.dot(layer_0, W0))  # multiply layer0 by weights, then activate\n",
    "layer_2 = sigmoid(np.dot(layer_1, W1))"
   ]
  },
  {
   "cell_type": "code",
   "execution_count": 22,
   "metadata": {},
   "outputs": [
    {
     "data": {
      "text/plain": [
       "array([[0, 0],\n",
       "       [0, 1],\n",
       "       [1, 0],\n",
       "       [1, 1]])"
      ]
     },
     "execution_count": 22,
     "metadata": {},
     "output_type": "execute_result"
    }
   ],
   "source": [
    "# here is the code broken down into individual steps.\n",
    "\n",
    "# Step 1. The inputs to layer 0 are given by the data training set.\n",
    "layer_0 = X\n",
    "layer_0"
   ]
  },
  {
   "cell_type": "markdown",
   "metadata": {},
   "source": [
    "Multiply the first set of weights by the matching set of inputs..."
   ]
  },
  {
   "cell_type": "code",
   "execution_count": 24,
   "metadata": {},
   "outputs": [
    {
     "data": {
      "text/plain": [
       "array([[ 0.        ,  0.        ,  0.        ,  0.        ],\n",
       "       [-0.79008149, -0.73063072, -0.47393487, -0.71743393],\n",
       "       [ 0.24930343, -0.4406158 , -0.90512732,  0.7128532 ],\n",
       "       [-0.54077806, -1.17124652, -1.37906218, -0.00458073]])"
      ]
     },
     "execution_count": 24,
     "metadata": {},
     "output_type": "execute_result"
    }
   ],
   "source": [
    "# this results is hard to understand... the next example is the same step, simplified.\n",
    "np.dot(layer_0, W0)"
   ]
  },
  {
   "cell_type": "code",
   "execution_count": 35,
   "metadata": {},
   "outputs": [
    {
     "data": {
      "text/plain": [
       "array([[0.1, 0.2, 0.3, 0.4],\n",
       "       [0.5, 0.6, 0.7, 0.8]])"
      ]
     },
     "execution_count": 35,
     "metadata": {},
     "output_type": "execute_result"
    }
   ],
   "source": [
    "# let's invent some weights that are easier to understand, just to illustrate the math:\n",
    "W0 = np.array([[0.1,0.2,0.3,0.4],[0.5,0.6,0.7,0.8]])\n",
    "W0"
   ]
  },
  {
   "cell_type": "code",
   "execution_count": 36,
   "metadata": {},
   "outputs": [
    {
     "name": "stdout",
     "output_type": "stream",
     "text": [
      "(---inputs---------------)\n",
      "[[0 0]\n",
      " [0 1]\n",
      " [1 0]\n",
      " [1 1]]\n",
      "(---weights--------------)\n",
      "[[0.1 0.2 0.3 0.4]\n",
      " [0.5 0.6 0.7 0.8]]\n",
      "(---dot-product----------)\n",
      "[[0.  0.  0.  0. ]\n",
      " [0.5 0.6 0.7 0.8]\n",
      " [0.1 0.2 0.3 0.4]\n",
      " [0.6 0.8 1.  1.2]]\n"
     ]
    }
   ],
   "source": [
    "print('(---inputs---------------)')\n",
    "print(layer_0)\n",
    "print('(---weights--------------)')\n",
    "print(W0)\n",
    "print('(---dot-product----------)')\n",
    "print(np.dot(layer_0, W0))"
   ]
  },
  {
   "cell_type": "markdown",
   "metadata": {},
   "source": [
    "...so the dot product represents the sum of each input row, after multiplying each first element by the first row of weights, and each second element by the second row of weights. In effect, the dot product distributes the weights across the elements."
   ]
  },
  {
   "cell_type": "markdown",
   "metadata": {},
   "source": [
    "but!... it's not enough to simply weight the inputs. The network is designed to produce **yes** or **no** outputs, so each weighted input needs to be converted to a continuous version of **yes** or **no** by being *activated*. In this case, the *activation function* is the sigmoid function, applied to each weighted element:"
   ]
  },
  {
   "cell_type": "code",
   "execution_count": 38,
   "metadata": {},
   "outputs": [
    {
     "data": {
      "text/plain": [
       "array([[0.5       , 0.5       , 0.5       , 0.5       ],\n",
       "       [0.62245933, 0.64565631, 0.66818777, 0.68997448],\n",
       "       [0.52497919, 0.549834  , 0.57444252, 0.59868766],\n",
       "       [0.64565631, 0.68997448, 0.73105858, 0.76852478]])"
      ]
     },
     "execution_count": 38,
     "metadata": {},
     "output_type": "execute_result"
    }
   ],
   "source": [
    "layer_1 = sigmoid(np.dot(layer_0, W0))\n",
    "layer_1"
   ]
  },
  {
   "cell_type": "markdown",
   "metadata": {},
   "source": [
    "layer_1 is the intermediate state of the network... it represents the *output* that results from applying weights to the original inputs, and also the *input* to the second layer. In order for that step to succeed, the dimensions of the second set of weights must conform to the shape of the output of the first layer. It makes no difference the initial value of the weights... those will be corrected in the training process... but there must be one *row* of weights for each *column* of data:"
   ]
  },
  {
   "cell_type": "code",
   "execution_count": 43,
   "metadata": {},
   "outputs": [
    {
     "data": {
      "text/plain": [
       "(array([[0.5       , 0.5       , 0.5       , 0.5       ],\n",
       "        [0.62245933, 0.64565631, 0.66818777, 0.68997448],\n",
       "        [0.52497919, 0.549834  , 0.57444252, 0.59868766],\n",
       "        [0.64565631, 0.68997448, 0.73105858, 0.76852478]]),\n",
       " array([[-0.81445752,  0.12882471],\n",
       "        [ 0.90862417, -0.80702739],\n",
       "        [-0.32318397, -0.99912121],\n",
       "        [-0.10828113,  0.8507689 ]]),\n",
       " array([[-0.16864923, -0.4132775 ],\n",
       "        [-0.21096655, -0.52146593],\n",
       "        [-0.17845798, -0.44069367],\n",
       "        [-0.21841529, -0.55023097]]))"
      ]
     },
     "execution_count": 43,
     "metadata": {},
     "output_type": "execute_result"
    }
   ],
   "source": [
    "layer_1, W1, np.dot(layer_1, W1)"
   ]
  },
  {
   "cell_type": "markdown",
   "metadata": {},
   "source": [
    "To make that a little simpler to visualize... try:"
   ]
  },
  {
   "cell_type": "code",
   "execution_count": 46,
   "metadata": {},
   "outputs": [
    {
     "name": "stdout",
     "output_type": "stream",
     "text": [
      "[[1 1 1 1]\n",
      " [2 2 2 2]\n",
      " [3 3 3 3]\n",
      " [4 4 4 4]]\n",
      "[[0 1 0 1]\n",
      " [0 2 0 2]\n",
      " [1 1 1 1]\n",
      " [2 2 2 2]]\n",
      "[[ 3  6  3  6]\n",
      " [ 6 12  6 12]\n",
      " [ 9 18  9 18]\n",
      " [12 24 12 24]]\n"
     ]
    }
   ],
   "source": [
    "l1 = np.array([[1,1,1,1],[2,2,2,2],[3,3,3,3],[4,4,4,4]])\n",
    "w1 = np.array([[0,1,0,1],[0,2,0,2],[1,1,1,1],[2,2,2,2]])\n",
    "print(l1)\n",
    "print(w1)\n",
    "print(np.dot(l1, w1))"
   ]
  },
  {
   "cell_type": "markdown",
   "metadata": {},
   "source": [
    "Anyway... layer_2 is the output of the network (which, of course, is wrong, but it's a start):"
   ]
  },
  {
   "cell_type": "code",
   "execution_count": 47,
   "metadata": {},
   "outputs": [
    {
     "data": {
      "text/plain": [
       "array([[0.45793734, 0.3981265 ],\n",
       "       [0.44745311, 0.37250951],\n",
       "       [0.45550353, 0.39157569],\n",
       "       [0.44561222, 0.36581082]])"
      ]
     },
     "execution_count": 47,
     "metadata": {},
     "output_type": "execute_result"
    }
   ],
   "source": [
    "layer_2"
   ]
  },
  {
   "cell_type": "markdown",
   "metadata": {},
   "source": [
    "What exactly is the amount of error? The *error* is the difference between the expected outputs and the actual outputs:"
   ]
  },
  {
   "cell_type": "code",
   "execution_count": 48,
   "metadata": {},
   "outputs": [
    {
     "data": {
      "text/plain": [
       "array([[-0.45793734, -0.3981265 ],\n",
       "       [-0.44745311,  0.62749049],\n",
       "       [-0.45550353,  0.60842431],\n",
       "       [ 0.55438778, -0.36581082]])"
      ]
     },
     "execution_count": 48,
     "metadata": {},
     "output_type": "execute_result"
    }
   ],
   "source": [
    "# measure error in final layer by direct comparison to expected outputs\n",
    "layer_2_error = y - layer_2\n",
    "layer_2_error"
   ]
  },
  {
   "cell_type": "markdown",
   "metadata": {},
   "source": [
    "At this point, only the error for the final layer (layer_2) is known, since that error can be measured by comparing layer_2 to the expected final state; however: the *results* of layer_2 imply the *errors* in layer_1. The process of using the results of each successive layer to estimate the error of the prior layer is called **back propogation**, because the errors are computed backwards, starting from a *direct* measurement at the final layer and proceeding **backwards** to an implied error of each *prior* layer.<p>\n",
    "In this step, layer_2 is sigmoid(input), layer_2_error is "
   ]
  },
  {
   "cell_type": "code",
   "execution_count": 49,
   "metadata": {},
   "outputs": [
    {
     "data": {
      "text/plain": [
       "array([[-0.11367412, -0.09539978],\n",
       "       [-0.11062778,  0.1466735 ],\n",
       "       [-0.11297402,  0.14495354],\n",
       "       [ 0.13695705, -0.08486565]])"
      ]
     },
     "execution_count": 49,
     "metadata": {},
     "output_type": "execute_result"
    }
   ],
   "source": [
    "layer_2_delta = layer_2_error * sigmoid_to_sigmoid_prime(layer_2)\n",
    "layer_2_delta"
   ]
  },
  {
   "cell_type": "code",
   "execution_count": null,
   "metadata": {},
   "outputs": [],
   "source": []
  }
 ],
 "metadata": {
  "kernelspec": {
   "display_name": "Python 3",
   "language": "python",
   "name": "python3"
  },
  "language_info": {
   "codemirror_mode": {
    "name": "ipython",
    "version": 3
   },
   "file_extension": ".py",
   "mimetype": "text/x-python",
   "name": "python",
   "nbconvert_exporter": "python",
   "pygments_lexer": "ipython3",
   "version": "3.6.4"
  }
 },
 "nbformat": 4,
 "nbformat_minor": 2
}
