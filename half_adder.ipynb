{
 "cells": [
  {
   "cell_type": "code",
   "execution_count": 19,
   "metadata": {},
   "outputs": [
    {
     "name": "stdout",
     "output_type": "stream",
     "text": [
      "0 + 0 = 0 0\n",
      "0 + 1 = 0 1\n",
      "1 + 0 = 0 1\n",
      "1 + 1 = 1 0\n"
     ]
    }
   ],
   "source": [
    "import numpy as np\n",
    "\n",
    "X = np.array([[0,0],[0,1],[1,0],[1,1]])\n",
    "y = np.array([[0,0],[0,1],[0,1],[1,0]])\n",
    "hidden_size = 4\n",
    "W0 = 2 * np.random.random((2, hidden_size)) - 1\n",
    "W1 = 2 * np.random.random((hidden_size, 2)) - 1\n",
    "\n",
    "def sigmoid(x):\n",
    "    return 1 / (1+np.exp(-x))\n",
    "\n",
    "def sigmoid_to_sigmoid_prime(s_of_x):\n",
    "    return s_of_x * (1 - s_of_x)\n",
    "\n",
    "for i in range(0,100000):\n",
    "    # feed-forward values\n",
    "    layer_0 = X\n",
    "    layer_1 = sigmoid(np.dot(layer_0, W0))  # multiply layer0 by weights, then activate\n",
    "    layer_2 = sigmoid(np.dot(layer_1, W1))\n",
    "    # back propogate errors\n",
    "    layer_2_error = y - layer_2\n",
    "    layer_2_delta = layer_2_error * sigmoid_to_sigmoid_prime(layer_2)\n",
    "    layer_1_error = layer_2_delta.dot(W1.T)\n",
    "    layer_1_delta = layer_1_error * sigmoid_to_sigmoid_prime(layer_1)\n",
    "    \n",
    "    W1 += alpha * layer_1.T.dot(layer_2_delta)\n",
    "    W0 += alpha * layer_0.T.dot(layer_1_delta)\n",
    "    \n",
    "for i in range(0, len(layer_2)):\n",
    "    a = 1 if layer_2[i][0] > 0.5 else 0\n",
    "    b = 1 if layer_2[i][1] > 0.5 else 0\n",
    "    print(X[i][0],'+',X[i][1],'=',a,b)"
   ]
  },
  {
   "cell_type": "code",
   "execution_count": null,
   "metadata": {},
   "outputs": [],
   "source": []
  }
 ],
 "metadata": {
  "kernelspec": {
   "display_name": "Python 3",
   "language": "python",
   "name": "python3"
  },
  "language_info": {
   "codemirror_mode": {
    "name": "ipython",
    "version": 3
   },
   "file_extension": ".py",
   "mimetype": "text/x-python",
   "name": "python",
   "nbconvert_exporter": "python",
   "pygments_lexer": "ipython3",
   "version": "3.6.4"
  }
 },
 "nbformat": 4,
 "nbformat_minor": 2
}
